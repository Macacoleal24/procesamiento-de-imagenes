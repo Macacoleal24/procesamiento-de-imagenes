{
 "cells": [
  {
   "cell_type": "code",
   "execution_count": 2,
   "metadata": {},
   "outputs": [],
   "source": [
    "import numpy as np\n",
    "import cv2 as cv"
   ]
  },
  {
   "cell_type": "code",
   "execution_count": 8,
   "metadata": {},
   "outputs": [],
   "source": [
    "img = cv.imread(\"C:/Users/laelm/OneDrive/Escritorio/1238/procesamiento de imagenes/Mapache.jpeg\", cv.IMREAD_GRAYSCALE)"
   ]
  },
  {
   "cell_type": "code",
   "execution_count": 9,
   "metadata": {},
   "outputs": [
    {
     "data": {
      "text/plain": [
       "(750, 750)"
      ]
     },
     "execution_count": 9,
     "metadata": {},
     "output_type": "execute_result"
    }
   ],
   "source": [
    "img.shape"
   ]
  },
  {
   "cell_type": "code",
   "execution_count": 10,
   "metadata": {},
   "outputs": [],
   "source": [
    "def vecindad4(img, posX, posY):\n",
    "    pixeles = []\n",
    "    if posX - 1 >= 0:\n",
    "        print(f\"P({posX-1}, {posY}) = {img[posX-1, posY]}\")\n",
    "        pixeles.append([posX-1, posY])\n",
    "    if posX + 1 < img.shape[0]:\n",
    "        print(f\"P({posX+1}, {posY}) = {img[posX+1, posY]}\")\n",
    "        pixeles.append([posX+1, posY])\n",
    "    if posY - 1 >= 0:\n",
    "        print(f\"P({posX}, {posY-1}) = {img[posX, posY-1]}\")\n",
    "        pixeles.append([posX, posY-1])\n",
    "    if posY+1 < img.shape[1]:\n",
    "        print(f\"P({posX}, {posY+1}) = {img[posX, posY+1]}\")\n",
    "        pixeles.append([posX, posY+1])\n",
    "    return pixeles"
   ]
  },
  {
   "cell_type": "code",
   "execution_count": 11,
   "metadata": {},
   "outputs": [],
   "source": [
    "def adj4(img, p:list, v = [1]): #p es lista de pixeles de 4 vecindad\n",
    "    for i in p:\n",
    "        if img[i[0], i[1]] in v:\n",
    "            print(f\"P({i[0]}, {i[1]}) = {img[i[0], i[1]]}\")"
   ]
  },
  {
   "cell_type": "code",
   "execution_count": 12,
   "metadata": {},
   "outputs": [
    {
     "data": {
      "text/plain": [
       "18"
      ]
     },
     "execution_count": 12,
     "metadata": {},
     "output_type": "execute_result"
    }
   ],
   "source": [
    "img[4,3]"
   ]
  },
  {
   "cell_type": "code",
   "execution_count": 13,
   "metadata": {},
   "outputs": [
    {
     "name": "stdout",
     "output_type": "stream",
     "text": [
      "P(3, 2) = 18\n",
      "P(5, 2) = 18\n",
      "P(4, 1) = 18\n",
      "P(4, 3) = 18\n"
     ]
    }
   ],
   "source": [
    "p= vecindad4(img, 4,2)"
   ]
  },
  {
   "cell_type": "code",
   "execution_count": 14,
   "metadata": {},
   "outputs": [
    {
     "name": "stdout",
     "output_type": "stream",
     "text": [
      "P(3, 2) = 18\n",
      "P(5, 2) = 18\n",
      "P(4, 1) = 18\n",
      "P(4, 3) = 18\n"
     ]
    }
   ],
   "source": [
    "v=np.arange(60) # 0 a 60\n",
    "adj4(img, p, v) #pasa v"
   ]
  },
  {
   "cell_type": "code",
   "execution_count": 15,
   "metadata": {},
   "outputs": [],
   "source": [
    "arr = np.array([[1,0,1],\n",
    "                [0,1,1],\n",
    "                [0,0,1]])"
   ]
  },
  {
   "cell_type": "code",
   "execution_count": 16,
   "metadata": {},
   "outputs": [
    {
     "name": "stdout",
     "output_type": "stream",
     "text": [
      "P(1, 2) = 1\n",
      "P(2, 1) = 0\n"
     ]
    }
   ],
   "source": [
    "p= vecindad4(arr, 2,2)"
   ]
  },
  {
   "cell_type": "code",
   "execution_count": 17,
   "metadata": {},
   "outputs": [
    {
     "name": "stdout",
     "output_type": "stream",
     "text": [
      "P(1, 2) = 1\n"
     ]
    }
   ],
   "source": [
    "\n",
    "adj4(arr, p) #no pasa v"
   ]
  },
  {
   "cell_type": "code",
   "execution_count": null,
   "metadata": {},
   "outputs": [],
   "source": []
  }
 ],
 "metadata": {
  "kernelspec": {
   "display_name": "base",
   "language": "python",
   "name": "python3"
  },
  "language_info": {
   "codemirror_mode": {
    "name": "ipython",
    "version": 3
   },
   "file_extension": ".py",
   "mimetype": "text/x-python",
   "name": "python",
   "nbconvert_exporter": "python",
   "pygments_lexer": "ipython3",
   "version": "3.11.5"
  },
  "orig_nbformat": 4
 },
 "nbformat": 4,
 "nbformat_minor": 2
}
